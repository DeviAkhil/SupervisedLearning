{
 "cells": [
  {
   "cell_type": "markdown",
   "id": "4fdafb8f-9499-4694-808d-da3fb66f0d8c",
   "metadata": {},
   "source": [
    "Do the following in the iris dataset.\n",
    "1. Read the dataset to the python environment.\n",
    "2. Do necessary pre-processing steps.\n",
    "3. Find out which classification model gives the best result to predict iris\n",
    "species.(also do random forest algorithm"
   ]
  },
  {
   "cell_type": "code",
   "execution_count": 1,
   "id": "3cae47b1-4453-4cb5-b588-9d734086d1c8",
   "metadata": {},
   "outputs": [],
   "source": [
    "import pandas as pd\n",
    "import numpy as np\n",
    "import matplotlib.pyplot as plt\n",
    "import seaborn as sns"
   ]
  },
  {
   "cell_type": "markdown",
   "id": "898653b5-7c8f-461d-b3e6-c22ceec08495",
   "metadata": {},
   "source": [
    "## Read the dataset to the python environment."
   ]
  },
  {
   "cell_type": "code",
   "execution_count": 2,
   "id": "3cbd50e5-fab6-4693-9920-59c91d5258e0",
   "metadata": {},
   "outputs": [],
   "source": [
    "data = pd.read_excel(r'D:\\Devi\\ICT_TVM\\CASE STUDY\\iris.xls')"
   ]
  },
  {
   "cell_type": "code",
   "execution_count": 3,
   "id": "420e38f5-ea6d-42e9-a987-6d069b06e796",
   "metadata": {},
   "outputs": [
    {
     "data": {
      "text/html": [
       "<div>\n",
       "<style scoped>\n",
       "    .dataframe tbody tr th:only-of-type {\n",
       "        vertical-align: middle;\n",
       "    }\n",
       "\n",
       "    .dataframe tbody tr th {\n",
       "        vertical-align: top;\n",
       "    }\n",
       "\n",
       "    .dataframe thead th {\n",
       "        text-align: right;\n",
       "    }\n",
       "</style>\n",
       "<table border=\"1\" class=\"dataframe\">\n",
       "  <thead>\n",
       "    <tr style=\"text-align: right;\">\n",
       "      <th></th>\n",
       "      <th>SL</th>\n",
       "      <th>SW</th>\n",
       "      <th>PL</th>\n",
       "      <th>PW</th>\n",
       "      <th>Classification</th>\n",
       "    </tr>\n",
       "  </thead>\n",
       "  <tbody>\n",
       "    <tr>\n",
       "      <th>0</th>\n",
       "      <td>5.1</td>\n",
       "      <td>3.5</td>\n",
       "      <td>1.4</td>\n",
       "      <td>0.2</td>\n",
       "      <td>Iris-setosa</td>\n",
       "    </tr>\n",
       "    <tr>\n",
       "      <th>1</th>\n",
       "      <td>4.9</td>\n",
       "      <td>3.0</td>\n",
       "      <td>1.4</td>\n",
       "      <td>0.2</td>\n",
       "      <td>Iris-setosa</td>\n",
       "    </tr>\n",
       "    <tr>\n",
       "      <th>2</th>\n",
       "      <td>NaN</td>\n",
       "      <td>3.2</td>\n",
       "      <td>1.3</td>\n",
       "      <td>0.2</td>\n",
       "      <td>Iris-setosa</td>\n",
       "    </tr>\n",
       "    <tr>\n",
       "      <th>3</th>\n",
       "      <td>4.6</td>\n",
       "      <td>3.1</td>\n",
       "      <td>1.5</td>\n",
       "      <td>0.2</td>\n",
       "      <td>Iris-setosa</td>\n",
       "    </tr>\n",
       "    <tr>\n",
       "      <th>4</th>\n",
       "      <td>5.0</td>\n",
       "      <td>3.6</td>\n",
       "      <td>1.4</td>\n",
       "      <td>0.2</td>\n",
       "      <td>Iris-setosa</td>\n",
       "    </tr>\n",
       "  </tbody>\n",
       "</table>\n",
       "</div>"
      ],
      "text/plain": [
       "    SL   SW   PL   PW Classification\n",
       "0  5.1  3.5  1.4  0.2    Iris-setosa\n",
       "1  4.9  3.0  1.4  0.2    Iris-setosa\n",
       "2  NaN  3.2  1.3  0.2    Iris-setosa\n",
       "3  4.6  3.1  1.5  0.2    Iris-setosa\n",
       "4  5.0  3.6  1.4  0.2    Iris-setosa"
      ]
     },
     "execution_count": 3,
     "metadata": {},
     "output_type": "execute_result"
    }
   ],
   "source": [
    "data.head()"
   ]
  },
  {
   "cell_type": "code",
   "execution_count": 4,
   "id": "ecfea090-1851-418d-824c-f24f6e088675",
   "metadata": {},
   "outputs": [
    {
     "data": {
      "text/html": [
       "<div>\n",
       "<style scoped>\n",
       "    .dataframe tbody tr th:only-of-type {\n",
       "        vertical-align: middle;\n",
       "    }\n",
       "\n",
       "    .dataframe tbody tr th {\n",
       "        vertical-align: top;\n",
       "    }\n",
       "\n",
       "    .dataframe thead th {\n",
       "        text-align: right;\n",
       "    }\n",
       "</style>\n",
       "<table border=\"1\" class=\"dataframe\">\n",
       "  <thead>\n",
       "    <tr style=\"text-align: right;\">\n",
       "      <th></th>\n",
       "      <th>SL</th>\n",
       "      <th>SW</th>\n",
       "      <th>PL</th>\n",
       "      <th>PW</th>\n",
       "      <th>Classification</th>\n",
       "    </tr>\n",
       "  </thead>\n",
       "  <tbody>\n",
       "    <tr>\n",
       "      <th>145</th>\n",
       "      <td>6.7</td>\n",
       "      <td>3.0</td>\n",
       "      <td>5.2</td>\n",
       "      <td>2.3</td>\n",
       "      <td>Iris-virginica</td>\n",
       "    </tr>\n",
       "    <tr>\n",
       "      <th>146</th>\n",
       "      <td>6.3</td>\n",
       "      <td>2.5</td>\n",
       "      <td>5.0</td>\n",
       "      <td>1.9</td>\n",
       "      <td>Iris-virginica</td>\n",
       "    </tr>\n",
       "    <tr>\n",
       "      <th>147</th>\n",
       "      <td>6.5</td>\n",
       "      <td>3.0</td>\n",
       "      <td>NaN</td>\n",
       "      <td>2.0</td>\n",
       "      <td>Iris-virginica</td>\n",
       "    </tr>\n",
       "    <tr>\n",
       "      <th>148</th>\n",
       "      <td>6.2</td>\n",
       "      <td>3.4</td>\n",
       "      <td>5.4</td>\n",
       "      <td>2.3</td>\n",
       "      <td>Iris-virginica</td>\n",
       "    </tr>\n",
       "    <tr>\n",
       "      <th>149</th>\n",
       "      <td>5.9</td>\n",
       "      <td>3.0</td>\n",
       "      <td>5.1</td>\n",
       "      <td>1.8</td>\n",
       "      <td>Iris-virginica</td>\n",
       "    </tr>\n",
       "  </tbody>\n",
       "</table>\n",
       "</div>"
      ],
      "text/plain": [
       "      SL   SW   PL   PW  Classification\n",
       "145  6.7  3.0  5.2  2.3  Iris-virginica\n",
       "146  6.3  2.5  5.0  1.9  Iris-virginica\n",
       "147  6.5  3.0  NaN  2.0  Iris-virginica\n",
       "148  6.2  3.4  5.4  2.3  Iris-virginica\n",
       "149  5.9  3.0  5.1  1.8  Iris-virginica"
      ]
     },
     "execution_count": 4,
     "metadata": {},
     "output_type": "execute_result"
    }
   ],
   "source": [
    "data.tail()"
   ]
  },
  {
   "cell_type": "markdown",
   "id": "9b68ffeb-5b05-478a-84b9-5c0d77302d20",
   "metadata": {},
   "source": [
    "## Data analysis"
   ]
  },
  {
   "cell_type": "code",
   "execution_count": 5,
   "id": "3d61eb61-7334-4b1d-8080-b2b41e2c1fb9",
   "metadata": {},
   "outputs": [
    {
     "data": {
      "text/plain": [
       "(150, 5)"
      ]
     },
     "execution_count": 5,
     "metadata": {},
     "output_type": "execute_result"
    }
   ],
   "source": [
    "data.shape"
   ]
  },
  {
   "cell_type": "code",
   "execution_count": 6,
   "id": "93ff090f-7e97-464b-86de-86605ba3e18d",
   "metadata": {},
   "outputs": [
    {
     "data": {
      "text/plain": [
       "SL                float64\n",
       "SW                float64\n",
       "PL                float64\n",
       "PW                float64\n",
       "Classification     object\n",
       "dtype: object"
      ]
     },
     "execution_count": 6,
     "metadata": {},
     "output_type": "execute_result"
    }
   ],
   "source": [
    "data.dtypes"
   ]
  },
  {
   "cell_type": "code",
   "execution_count": 7,
   "id": "712657d1-422e-49ae-9104-0657c32e9394",
   "metadata": {},
   "outputs": [
    {
     "data": {
      "text/plain": [
       "<bound method DataFrame.info of       SL   SW   PL   PW  Classification\n",
       "0    5.1  3.5  1.4  0.2     Iris-setosa\n",
       "1    4.9  3.0  1.4  0.2     Iris-setosa\n",
       "2    NaN  3.2  1.3  0.2     Iris-setosa\n",
       "3    4.6  3.1  1.5  0.2     Iris-setosa\n",
       "4    5.0  3.6  1.4  0.2     Iris-setosa\n",
       "..   ...  ...  ...  ...             ...\n",
       "145  6.7  3.0  5.2  2.3  Iris-virginica\n",
       "146  6.3  2.5  5.0  1.9  Iris-virginica\n",
       "147  6.5  3.0  NaN  2.0  Iris-virginica\n",
       "148  6.2  3.4  5.4  2.3  Iris-virginica\n",
       "149  5.9  3.0  5.1  1.8  Iris-virginica\n",
       "\n",
       "[150 rows x 5 columns]>"
      ]
     },
     "execution_count": 7,
     "metadata": {},
     "output_type": "execute_result"
    }
   ],
   "source": [
    "data.info"
   ]
  },
  {
   "cell_type": "code",
   "execution_count": 8,
   "id": "6711a451-2b51-40c4-bf18-d9f51a2e45a5",
   "metadata": {},
   "outputs": [
    {
     "data": {
      "text/plain": [
       "array([[<AxesSubplot:title={'center':'SL'}>,\n",
       "        <AxesSubplot:title={'center':'SW'}>],\n",
       "       [<AxesSubplot:title={'center':'PL'}>,\n",
       "        <AxesSubplot:title={'center':'PW'}>]], dtype=object)"
      ]
     },
     "execution_count": 8,
     "metadata": {},
     "output_type": "execute_result"
    },
    {
     "data": {
      "image/png": "[encoded data removed]",
      "text/plain": [
       "<Figure size 432x288 with 4 Axes>"
      ]
     },
     "metadata": {
      "needs_background": "light"
     },
     "output_type": "display_data"
    }
   ],
   "source": [
    "data.hist()\n"
   ]
  },
  {
   "cell_type": "code",
   "execution_count": 9,
   "id": "40daabd9-0603-457d-b638-d2008d1622b4",
   "metadata": {},
   "outputs": [
    {
     "data": {
      "text/plain": [
       "SL                7\n",
       "SW                6\n",
       "PL                6\n",
       "PW                0\n",
       "Classification    0\n",
       "dtype: int64"
      ]
     },
     "execution_count": 9,
     "metadata": {},
     "output_type": "execute_result"
    }
   ],
   "source": [
    "data.isna().sum()"
   ]
  },
  {
   "cell_type": "markdown",
   "id": "6b41f2b1-9425-4192-bda6-61e6f9643c8e",
   "metadata": {},
   "source": [
    "The data contain missing values in Sepel length and Sepel width"
   ]
  },
  {
   "cell_type": "markdown",
   "id": "4b9b6d05-9b3e-4bcc-bf40-112446fab1b5",
   "metadata": {},
   "source": [
    "since Sepel length is likely to be right skewed distribution and sepel width is noemally distributed, we can fill the missing values with mean value"
   ]
  },
  {
   "cell_type": "code",
   "execution_count": null,
   "id": "e32fa7d6-a142-48d3-b716-651c81042316",
   "metadata": {},
   "outputs": [],
   "source": []
  },
  {
   "cell_type": "markdown",
   "id": "05d05a6a-abd1-482c-b54c-75ecfbc2f5fc",
   "metadata": {},
   "source": [
    "## Do necessary pre-processing steps."
   ]
  },
  {
   "cell_type": "code",
   "execution_count": 10,
   "id": "46e4bc9c-e0de-4ee9-9eef-ec60a4e92651",
   "metadata": {},
   "outputs": [],
   "source": [
    "sepell_mean = data['SL'].mean()"
   ]
  },
  {
   "cell_type": "code",
   "execution_count": 11,
   "id": "6afe3969-adea-476e-8a3a-cd5133e45242",
   "metadata": {},
   "outputs": [],
   "source": [
    "sepelw_mean = data['SW'].mean()"
   ]
  },
  {
   "cell_type": "code",
   "execution_count": 12,
   "id": "0f66195f-54ea-4296-84bb-efa1e69e031e",
   "metadata": {},
   "outputs": [],
   "source": [
    "petel_mean = data['PL'].mean()"
   ]
  },
  {
   "cell_type": "code",
   "execution_count": 13,
   "id": "4a2b56c0-ae50-4596-a730-435d432d857d",
   "metadata": {},
   "outputs": [],
   "source": [
    "data['SL']=data['SL'].fillna(sepell_mean)"
   ]
  },
  {
   "cell_type": "code",
   "execution_count": 14,
   "id": "4fa9d4f0-196c-42ed-9cba-849b237385c6",
   "metadata": {},
   "outputs": [],
   "source": [
    "data['SW']=data['SL'].fillna(sepelw_mean)"
   ]
  },
  {
   "cell_type": "code",
   "execution_count": 15,
   "id": "1194f4fd-e658-4a7a-be71-ee8810cb6db0",
   "metadata": {},
   "outputs": [],
   "source": [
    "data['PL']=data['SL'].fillna(petel_mean)"
   ]
  },
  {
   "cell_type": "code",
   "execution_count": 16,
   "id": "9a376a6d-fd56-4c52-a074-7dbf07ec502a",
   "metadata": {},
   "outputs": [
    {
     "data": {
      "text/plain": [
       "SL                0\n",
       "SW                0\n",
       "PL                0\n",
       "PW                0\n",
       "Classification    0\n",
       "dtype: int64"
      ]
     },
     "execution_count": 16,
     "metadata": {},
     "output_type": "execute_result"
    }
   ],
   "source": [
    "data.isna().sum()"
   ]
  },
  {
   "cell_type": "code",
   "execution_count": 17,
   "id": "746adc4d-7aab-400b-b4a1-ad02ef251b2d",
   "metadata": {},
   "outputs": [
    {
     "data": {
      "text/plain": [
       "<AxesSubplot:>"
      ]
     },
     "execution_count": 17,
     "metadata": {},
     "output_type": "execute_result"
    },
    {
     "data": {
      "image/png": "[encoded data removed]",
      "text/plain": [
       "<Figure size 432x288 with 2 Axes>"
      ]
     },
     "metadata": {
      "needs_background": "light"
     },
     "output_type": "display_data"
    }
   ],
   "source": [
    "sns.heatmap(data.isna())"
   ]
  },
  {
   "cell_type": "markdown",
   "id": "5220444f-6080-41ca-ad23-7ab386c8dda8",
   "metadata": {},
   "source": [
    "successfully filled all the missing data"
   ]
  },
  {
   "cell_type": "code",
   "execution_count": null,
   "id": "de6a8395-4da3-4b3d-ab46-b2dba294d232",
   "metadata": {},
   "outputs": [],
   "source": []
  },
  {
   "cell_type": "code",
   "execution_count": 18,
   "id": "5b24abf7-251b-4a24-a4db-d3dadc55d06a",
   "metadata": {},
   "outputs": [
    {
     "data": {
      "text/plain": [
       "<seaborn.axisgrid.PairGrid at 0x2063d7c91f0>"
      ]
     },
     "execution_count": 18,
     "metadata": {},
     "output_type": "execute_result"
    },
    {
     "data": {
      "image/png": "[encoded data removed]",
      "text/plain": [
       "<Figure size 823.25x720 with 20 Axes>"
      ]
     },
     "metadata": {
      "needs_background": "light"
     },
     "output_type": "display_data"
    }
   ],
   "source": [
    "sns.pairplot(data, hue='Classification', markers='+')\n"
   ]
  },
  {
   "cell_type": "markdown",
   "id": "f60688eb-cb0e-4905-aef4-9e3310ffab30",
   "metadata": {},
   "source": [
    "from the plot it is clear that sepel length sepel width and petel length are linearly related"
   ]
  },
  {
   "cell_type": "code",
   "execution_count": 19,
   "id": "b3f4eb21-9845-4471-ae35-cbd7ed9c179f",
   "metadata": {},
   "outputs": [
    {
     "data": {
      "text/html": [
       "<div>\n",
       "<style scoped>\n",
       "    .dataframe tbody tr th:only-of-type {\n",
       "        vertical-align: middle;\n",
       "    }\n",
       "\n",
       "    .dataframe tbody tr th {\n",
       "        vertical-align: top;\n",
       "    }\n",
       "\n",
       "    .dataframe thead th {\n",
       "        text-align: right;\n",
       "    }\n",
       "</style>\n",
       "<table border=\"1\" class=\"dataframe\">\n",
       "  <thead>\n",
       "    <tr style=\"text-align: right;\">\n",
       "      <th></th>\n",
       "      <th>SL</th>\n",
       "      <th>SW</th>\n",
       "      <th>PL</th>\n",
       "      <th>PW</th>\n",
       "    </tr>\n",
       "  </thead>\n",
       "  <tbody>\n",
       "    <tr>\n",
       "      <th>count</th>\n",
       "      <td>150.000000</td>\n",
       "      <td>150.000000</td>\n",
       "      <td>150.000000</td>\n",
       "      <td>150.000000</td>\n",
       "    </tr>\n",
       "    <tr>\n",
       "      <th>mean</th>\n",
       "      <td>5.855944</td>\n",
       "      <td>5.855944</td>\n",
       "      <td>5.855944</td>\n",
       "      <td>1.198667</td>\n",
       "    </tr>\n",
       "    <tr>\n",
       "      <th>std</th>\n",
       "      <td>0.808480</td>\n",
       "      <td>0.808480</td>\n",
       "      <td>0.808480</td>\n",
       "      <td>0.763161</td>\n",
       "    </tr>\n",
       "    <tr>\n",
       "      <th>min</th>\n",
       "      <td>4.300000</td>\n",
       "      <td>4.300000</td>\n",
       "      <td>4.300000</td>\n",
       "      <td>0.100000</td>\n",
       "    </tr>\n",
       "    <tr>\n",
       "      <th>25%</th>\n",
       "      <td>5.200000</td>\n",
       "      <td>5.200000</td>\n",
       "      <td>5.200000</td>\n",
       "      <td>0.300000</td>\n",
       "    </tr>\n",
       "    <tr>\n",
       "      <th>50%</th>\n",
       "      <td>5.800000</td>\n",
       "      <td>5.800000</td>\n",
       "      <td>5.800000</td>\n",
       "      <td>1.300000</td>\n",
       "    </tr>\n",
       "    <tr>\n",
       "      <th>75%</th>\n",
       "      <td>6.400000</td>\n",
       "      <td>6.400000</td>\n",
       "      <td>6.400000</td>\n",
       "      <td>1.800000</td>\n",
       "    </tr>\n",
       "    <tr>\n",
       "      <th>max</th>\n",
       "      <td>7.900000</td>\n",
       "      <td>7.900000</td>\n",
       "      <td>7.900000</td>\n",
       "      <td>2.500000</td>\n",
       "    </tr>\n",
       "  </tbody>\n",
       "</table>\n",
       "</div>"
      ],
      "text/plain": [
       "               SL          SW          PL          PW\n",
       "count  150.000000  150.000000  150.000000  150.000000\n",
       "mean     5.855944    5.855944    5.855944    1.198667\n",
       "std      0.808480    0.808480    0.808480    0.763161\n",
       "min      4.300000    4.300000    4.300000    0.100000\n",
       "25%      5.200000    5.200000    5.200000    0.300000\n",
       "50%      5.800000    5.800000    5.800000    1.300000\n",
       "75%      6.400000    6.400000    6.400000    1.800000\n",
       "max      7.900000    7.900000    7.900000    2.500000"
      ]
     },
     "execution_count": 19,
     "metadata": {},
     "output_type": "execute_result"
    }
   ],
   "source": [
    "data.describe()"
   ]
  },
  {
   "cell_type": "code",
   "execution_count": 52,
   "id": "ab0d7e32-0d56-43ca-88bf-61631516430e",
   "metadata": {},
   "outputs": [],
   "source": [
    "# Label Encoding"
   ]
  },
  {
   "cell_type": "code",
   "execution_count": 20,
   "id": "65177348-247a-4da2-94c5-103603ec6a6b",
   "metadata": {},
   "outputs": [],
   "source": [
    "from sklearn.preprocessing import LabelEncoder\n",
    "\n",
    "label = LabelEncoder()\n",
    "species = data['Classification']\n",
    "data['Classification'] =label.fit_transform(species)"
   ]
  },
  {
   "cell_type": "code",
   "execution_count": 21,
   "id": "26978a7d-21e0-4f30-98f7-dd752900ad14",
   "metadata": {},
   "outputs": [
    {
     "data": {
      "text/html": [
       "<div>\n",
       "<style scoped>\n",
       "    .dataframe tbody tr th:only-of-type {\n",
       "        vertical-align: middle;\n",
       "    }\n",
       "\n",
       "    .dataframe tbody tr th {\n",
       "        vertical-align: top;\n",
       "    }\n",
       "\n",
       "    .dataframe thead th {\n",
       "        text-align: right;\n",
       "    }\n",
       "</style>\n",
       "<table border=\"1\" class=\"dataframe\">\n",
       "  <thead>\n",
       "    <tr style=\"text-align: right;\">\n",
       "      <th></th>\n",
       "      <th>SL</th>\n",
       "      <th>SW</th>\n",
       "      <th>PL</th>\n",
       "      <th>PW</th>\n",
       "      <th>Classification</th>\n",
       "    </tr>\n",
       "  </thead>\n",
       "  <tbody>\n",
       "    <tr>\n",
       "      <th>0</th>\n",
       "      <td>5.100000</td>\n",
       "      <td>5.100000</td>\n",
       "      <td>5.100000</td>\n",
       "      <td>0.2</td>\n",
       "      <td>0</td>\n",
       "    </tr>\n",
       "    <tr>\n",
       "      <th>1</th>\n",
       "      <td>4.900000</td>\n",
       "      <td>4.900000</td>\n",
       "      <td>4.900000</td>\n",
       "      <td>0.2</td>\n",
       "      <td>0</td>\n",
       "    </tr>\n",
       "    <tr>\n",
       "      <th>2</th>\n",
       "      <td>5.855944</td>\n",
       "      <td>5.855944</td>\n",
       "      <td>5.855944</td>\n",
       "      <td>0.2</td>\n",
       "      <td>0</td>\n",
       "    </tr>\n",
       "    <tr>\n",
       "      <th>3</th>\n",
       "      <td>4.600000</td>\n",
       "      <td>4.600000</td>\n",
       "      <td>4.600000</td>\n",
       "      <td>0.2</td>\n",
       "      <td>0</td>\n",
       "    </tr>\n",
       "    <tr>\n",
       "      <th>4</th>\n",
       "      <td>5.000000</td>\n",
       "      <td>5.000000</td>\n",
       "      <td>5.000000</td>\n",
       "      <td>0.2</td>\n",
       "      <td>0</td>\n",
       "    </tr>\n",
       "  </tbody>\n",
       "</table>\n",
       "</div>"
      ],
      "text/plain": [
       "         SL        SW        PL   PW  Classification\n",
       "0  5.100000  5.100000  5.100000  0.2               0\n",
       "1  4.900000  4.900000  4.900000  0.2               0\n",
       "2  5.855944  5.855944  5.855944  0.2               0\n",
       "3  4.600000  4.600000  4.600000  0.2               0\n",
       "4  5.000000  5.000000  5.000000  0.2               0"
      ]
     },
     "execution_count": 21,
     "metadata": {},
     "output_type": "execute_result"
    }
   ],
   "source": [
    "data.head()"
   ]
  },
  {
   "cell_type": "code",
   "execution_count": 22,
   "id": "cfaa6bb0-8bc6-406d-8dc2-2597941b5565",
   "metadata": {},
   "outputs": [
    {
     "data": {
      "text/html": [
       "<div>\n",
       "<style scoped>\n",
       "    .dataframe tbody tr th:only-of-type {\n",
       "        vertical-align: middle;\n",
       "    }\n",
       "\n",
       "    .dataframe tbody tr th {\n",
       "        vertical-align: top;\n",
       "    }\n",
       "\n",
       "    .dataframe thead th {\n",
       "        text-align: right;\n",
       "    }\n",
       "</style>\n",
       "<table border=\"1\" class=\"dataframe\">\n",
       "  <thead>\n",
       "    <tr style=\"text-align: right;\">\n",
       "      <th></th>\n",
       "      <th>SL</th>\n",
       "      <th>SW</th>\n",
       "      <th>PL</th>\n",
       "      <th>PW</th>\n",
       "      <th>Classification</th>\n",
       "    </tr>\n",
       "  </thead>\n",
       "  <tbody>\n",
       "    <tr>\n",
       "      <th>145</th>\n",
       "      <td>6.7</td>\n",
       "      <td>6.7</td>\n",
       "      <td>6.7</td>\n",
       "      <td>2.3</td>\n",
       "      <td>2</td>\n",
       "    </tr>\n",
       "    <tr>\n",
       "      <th>146</th>\n",
       "      <td>6.3</td>\n",
       "      <td>6.3</td>\n",
       "      <td>6.3</td>\n",
       "      <td>1.9</td>\n",
       "      <td>2</td>\n",
       "    </tr>\n",
       "    <tr>\n",
       "      <th>147</th>\n",
       "      <td>6.5</td>\n",
       "      <td>6.5</td>\n",
       "      <td>6.5</td>\n",
       "      <td>2.0</td>\n",
       "      <td>2</td>\n",
       "    </tr>\n",
       "    <tr>\n",
       "      <th>148</th>\n",
       "      <td>6.2</td>\n",
       "      <td>6.2</td>\n",
       "      <td>6.2</td>\n",
       "      <td>2.3</td>\n",
       "      <td>2</td>\n",
       "    </tr>\n",
       "    <tr>\n",
       "      <th>149</th>\n",
       "      <td>5.9</td>\n",
       "      <td>5.9</td>\n",
       "      <td>5.9</td>\n",
       "      <td>1.8</td>\n",
       "      <td>2</td>\n",
       "    </tr>\n",
       "  </tbody>\n",
       "</table>\n",
       "</div>"
      ],
      "text/plain": [
       "      SL   SW   PL   PW  Classification\n",
       "145  6.7  6.7  6.7  2.3               2\n",
       "146  6.3  6.3  6.3  1.9               2\n",
       "147  6.5  6.5  6.5  2.0               2\n",
       "148  6.2  6.2  6.2  2.3               2\n",
       "149  5.9  5.9  5.9  1.8               2"
      ]
     },
     "execution_count": 22,
     "metadata": {},
     "output_type": "execute_result"
    }
   ],
   "source": [
    "data.tail()"
   ]
  },
  {
   "cell_type": "code",
   "execution_count": 23,
   "id": "4f5967c5-4450-48d1-816e-ea1797196311",
   "metadata": {},
   "outputs": [
    {
     "data": {
      "text/plain": [
       "<AxesSubplot:>"
      ]
     },
     "execution_count": 23,
     "metadata": {},
     "output_type": "execute_result"
    },
    {
     "data": {
      "image/png": "[encoded data removed]",
      "text/plain": [
       "<Figure size 432x288 with 1 Axes>"
      ]
     },
     "metadata": {
      "needs_background": "light"
     },
     "output_type": "display_data"
    }
   ],
   "source": [
    "# checking for outliers\n",
    "sns.boxplot(data=data)"
   ]
  },
  {
   "cell_type": "markdown",
   "id": "6613ef2c-56be-4165-be06-a3429ae9f727",
   "metadata": {},
   "source": [
    "There is no outliers in this dataset"
   ]
  },
  {
   "cell_type": "markdown",
   "id": "b866916c-22fd-4def-a944-c09ada9708ba",
   "metadata": {},
   "source": [
    "## Model Building"
   ]
  },
  {
   "cell_type": "code",
   "execution_count": 69,
   "id": "55a9ea65-7a1c-4e19-8ad5-5d39e9a8075a",
   "metadata": {},
   "outputs": [],
   "source": [
    "# Splitting the data"
   ]
  },
  {
   "cell_type": "code",
   "execution_count": 24,
   "id": "8c1991b4-991d-4e47-9ab2-ea73e8c3f866",
   "metadata": {},
   "outputs": [],
   "source": [
    "import warnings\n",
    "warnings.filterwarnings(\"ignore\")"
   ]
  },
  {
   "cell_type": "code",
   "execution_count": 25,
   "id": "02d1ca4e-ec4f-4536-84d8-087a59f1ac21",
   "metadata": {},
   "outputs": [],
   "source": [
    "X= data.drop(['Classification'], axis=1)\n",
    "Y=data['Classification']"
   ]
  },
  {
   "cell_type": "code",
   "execution_count": 26,
   "id": "3f525647-4fd8-4690-8567-e82e9c1eeeee",
   "metadata": {},
   "outputs": [],
   "source": [
    "from sklearn.model_selection import train_test_split\n",
    "\n",
    "X_train,X_test,Y_train,Y_test = train_test_split(X,Y,random_state=45,test_size=.2)"
   ]
  },
  {
   "cell_type": "markdown",
   "id": "0c2a5f9a-8588-4b72-bb01-24c3f6be5bb6",
   "metadata": {},
   "source": [
    "### 1.Logistic Regression"
   ]
  },
  {
   "cell_type": "code",
   "execution_count": 34,
   "id": "8c8f5b67-be67-4492-999a-db4f7952fe3e",
   "metadata": {},
   "outputs": [],
   "source": [
    "from sklearn.linear_model import LogisticRegression\n",
    "from sklearn.metrics import confusion_matrix,accuracy_score,precision_score,f1_score,recall_score\n",
    "\n",
    "logit =LogisticRegression()\n",
    "logit.fit(X_train,Y_train)\n",
    "Y_pred = logit.predict(X_test)"
   ]
  },
  {
   "cell_type": "code",
   "execution_count": 80,
   "id": "7c310666-772b-4403-9d7b-e84aab989c8a",
   "metadata": {},
   "outputs": [
    {
     "name": "stdout",
     "output_type": "stream",
     "text": [
      "Accuracy is 0.9666666666666667\n",
      "Precision is 0.9666666666666667\n",
      "Recall is 0.9666666666666667\n",
      "Fl score is 0.9666666666666667\n"
     ]
    }
   ],
   "source": [
    "print(\"Accuracy is\", accuracy_score(Y_test,Y_pred))\n",
    "print(\"Precision is\", precision_score(Y_test,Y_pred,pos_label='positive', average='micro'))\n",
    "print(\"Recall is\", recall_score(Y_test,Y_pred,pos_label='positive', average='micro'))\n",
    "print(\"Fl score is\", f1_score(Y_test,Y_pred,pos_label='positive', average='micro'))"
   ]
  },
  {
   "cell_type": "code",
   "execution_count": 84,
   "id": "2b214758-7faf-441b-94ed-611c53a632b0",
   "metadata": {},
   "outputs": [
    {
     "data": {
      "text/plain": [
       "array([[11,  0,  0],\n",
       "       [ 0,  7,  0],\n",
       "       [ 0,  1, 11]], dtype=int64)"
      ]
     },
     "execution_count": 84,
     "metadata": {},
     "output_type": "execute_result"
    }
   ],
   "source": [
    "confusion_matrix(Y_test,Y_pred)"
   ]
  },
  {
   "cell_type": "code",
   "execution_count": 50,
   "id": "ce63877b-d00b-4932-af99-e7a87a4365e8",
   "metadata": {},
   "outputs": [],
   "source": [
    "from sklearn.preprocessing import StandardScaler\n",
    "\n",
    "scalar = StandardScaler()\n",
    "X_train = scalar.fit_transform(X_train)\n",
    "X_test = scalar.fit_transform(X_test)"
   ]
  },
  {
   "cell_type": "code",
   "execution_count": 51,
   "id": "a8cedc92-4cd9-4bc2-ad0e-2c5fbc07e45b",
   "metadata": {},
   "outputs": [],
   "source": [
    "logit =LogisticRegression()\n",
    "logit.fit(X_train,Y_train)\n",
    "Y_pred = logit.predict(X_test)"
   ]
  },
  {
   "cell_type": "code",
   "execution_count": 52,
   "id": "08cf527a-cbb5-4fb2-b5d9-eea87a13e14d",
   "metadata": {},
   "outputs": [
    {
     "name": "stdout",
     "output_type": "stream",
     "text": [
      "Accuracy is 0.9666666666666667\n",
      "Precision is 0.9666666666666667\n",
      "Recall is 0.9666666666666667\n",
      "Fl score is 0.9666666666666667\n"
     ]
    }
   ],
   "source": [
    "print(\"Accuracy is\", accuracy_score(Y_test,Y_pred))\n",
    "print(\"Precision is\", precision_score(Y_test,Y_pred,pos_label='positive', average='micro'))\n",
    "print(\"Recall is\", recall_score(Y_test,Y_pred,pos_label='positive', average='micro'))\n",
    "print(\"Fl score is\", f1_score(Y_test,Y_pred,pos_label='positive', average='micro'))"
   ]
  },
  {
   "cell_type": "markdown",
   "id": "0fb0d243-081e-433b-a474-ff20bb01f7a8",
   "metadata": {},
   "source": [
    "There is no difference in accuracy precision recall and f1 score between scaled data "
   ]
  },
  {
   "cell_type": "markdown",
   "id": "970a8154-db3c-4b8c-a339-e1a3d2eb97a2",
   "metadata": {},
   "source": [
    "### 2.kNN Model"
   ]
  },
  {
   "cell_type": "code",
   "execution_count": 88,
   "id": "a9386c76-23cf-442a-9669-fd09e0c6d0ff",
   "metadata": {},
   "outputs": [],
   "source": [
    "from sklearn.neighbors import KNeighborsClassifier\n",
    "acc_values = []\n",
    "neighbours = np.arange(3,15)\n",
    "for k in neighbours:\n",
    "    classifier = KNeighborsClassifier(n_neighbors=k, metric ='minkowski' )\n",
    "    classifier.fit(X_train,Y_train) \n",
    "    y_pred= classifier.predict(X_test)\n",
    "    acc= accuracy_score(Y_test,y_pred)\n",
    "    acc_values.append(acc)"
   ]
  },
  {
   "cell_type": "code",
   "execution_count": 89,
   "id": "91d5c982-d6e2-45c7-a1f2-d7c37999194b",
   "metadata": {},
   "outputs": [
    {
     "data": {
      "text/plain": [
       "Text(0.5, 0, 'Neighbours')"
      ]
     },
     "execution_count": 89,
     "metadata": {},
     "output_type": "execute_result"
    },
    {
     "data": {
      "image/png": "[encoded data removed]",
      "text/plain": [
       "<Figure size 432x288 with 1 Axes>"
      ]
     },
     "metadata": {
      "needs_background": "light"
     },
     "output_type": "display_data"
    }
   ],
   "source": [
    "plt.plot(neighbours,acc_values,'o-')\n",
    "plt.xlabel(\"Neighbours\")"
   ]
  },
  {
   "cell_type": "code",
   "execution_count": 90,
   "id": "6c3748b7-3400-4d90-88a7-283767ac0c40",
   "metadata": {},
   "outputs": [
    {
     "data": {
      "text/plain": [
       "[0.9666666666666667,\n",
       " 0.9333333333333333,\n",
       " 0.9666666666666667,\n",
       " 0.9333333333333333,\n",
       " 0.9666666666666667,\n",
       " 0.9666666666666667,\n",
       " 0.9333333333333333,\n",
       " 0.9,\n",
       " 0.9,\n",
       " 0.9,\n",
       " 0.9333333333333333,\n",
       " 0.9666666666666667]"
      ]
     },
     "execution_count": 90,
     "metadata": {},
     "output_type": "execute_result"
    }
   ],
   "source": [
    "acc_values"
   ]
  },
  {
   "cell_type": "code",
   "execution_count": 98,
   "id": "de46385e-7545-44e3-b65d-f9a87458a74d",
   "metadata": {},
   "outputs": [],
   "source": [
    "# setting K=8 from the plot\n",
    "classifier = KNeighborsClassifier(n_neighbors=8, metric ='minkowski' )\n",
    "classifier.fit(X_train,Y_train) \n",
    "y_pred= classifier.predict(X_test)\n"
   ]
  },
  {
   "cell_type": "code",
   "execution_count": 99,
   "id": "3a181986-a347-44e1-b7cd-ba3eda5975b9",
   "metadata": {},
   "outputs": [
    {
     "name": "stdout",
     "output_type": "stream",
     "text": [
      "Accuracy is 0.9666666666666667\n",
      "Precision is 0.9666666666666667\n",
      "Recall is 0.9666666666666667\n",
      "Fl score is 0.9666666666666667\n"
     ]
    }
   ],
   "source": [
    "print(\"Accuracy is\", accuracy_score(Y_test,y_pred))\n",
    "print(\"Precision is\", precision_score(Y_test,y_pred,pos_label='positive', average='micro'))\n",
    "print(\"Recall is\", recall_score(Y_test,y_pred,pos_label='positive', average='micro'))\n",
    "print(\"Fl score is\", f1_score(Y_test,y_pred,pos_label='positive', average='micro'))"
   ]
  },
  {
   "cell_type": "markdown",
   "id": "6a240faa-8b33-4265-8fb0-4c50e8db5589",
   "metadata": {},
   "source": [
    "We got same precision and accuracy values from kNN model as well"
   ]
  },
  {
   "cell_type": "code",
   "execution_count": 100,
   "id": "97baec0a-9954-4b57-b360-91b2f689afe4",
   "metadata": {},
   "outputs": [
    {
     "data": {
      "text/plain": [
       "array([[11,  0,  0],\n",
       "       [ 0,  7,  0],\n",
       "       [ 0,  1, 11]], dtype=int64)"
      ]
     },
     "execution_count": 100,
     "metadata": {},
     "output_type": "execute_result"
    }
   ],
   "source": [
    "confusion_matrix(Y_test,y_pred)"
   ]
  },
  {
   "cell_type": "markdown",
   "id": "abb7b15e-4868-4bb0-a830-f78b1a460177",
   "metadata": {},
   "source": [
    "### 3.Decision tree"
   ]
  },
  {
   "cell_type": "code",
   "execution_count": 101,
   "id": "ac780b6a-25f1-4976-88cf-6acc8ac0f8c4",
   "metadata": {},
   "outputs": [],
   "source": [
    "from sklearn.tree import DecisionTreeClassifier\n",
    "\n",
    "dt_model = DecisionTreeClassifier()\n",
    "dt_model.fit(X_train,Y_train)\n",
    "y_pred = dt_model.predict(X_test)"
   ]
  },
  {
   "cell_type": "code",
   "execution_count": 102,
   "id": "91596da8-cd44-44cb-bd7c-be0d94ebd64b",
   "metadata": {},
   "outputs": [
    {
     "name": "stdout",
     "output_type": "stream",
     "text": [
      "Accuracy is 0.9333333333333333\n",
      "Precision is 0.9333333333333333\n",
      "Recall is 0.9333333333333333\n",
      "Fl score is 0.9333333333333333\n"
     ]
    }
   ],
   "source": [
    "print(\"Accuracy is\", accuracy_score(Y_test,y_pred))\n",
    "print(\"Precision is\", precision_score(Y_test,y_pred,pos_label='positive', average='micro'))\n",
    "print(\"Recall is\", recall_score(Y_test,y_pred,pos_label='positive', average='micro'))\n",
    "print(\"Fl score is\", f1_score(Y_test,y_pred,pos_label='positive', average='micro'))"
   ]
  },
  {
   "cell_type": "code",
   "execution_count": 103,
   "id": "82a5f7c8-dc7a-47d8-81db-645633c97855",
   "metadata": {},
   "outputs": [
    {
     "data": {
      "text/plain": [
       "array([[11,  0,  0],\n",
       "       [ 0,  7,  0],\n",
       "       [ 0,  2, 10]], dtype=int64)"
      ]
     },
     "execution_count": 103,
     "metadata": {},
     "output_type": "execute_result"
    }
   ],
   "source": [
    "confusion_matrix(Y_test,y_pred)"
   ]
  },
  {
   "cell_type": "markdown",
   "id": "b7071c5b-3c64-4c51-b491-55d79a24c738",
   "metadata": {},
   "source": [
    "Decision tree algorithm gives less precision accuracy values than the other two models"
   ]
  },
  {
   "cell_type": "markdown",
   "id": "6d75f8b6-2210-4c6b-87db-49ca05617c34",
   "metadata": {},
   "source": [
    "### 4.SVM"
   ]
  },
  {
   "cell_type": "code",
   "execution_count": 104,
   "id": "06cd5d38-af87-4910-a1dd-896aee4eebfe",
   "metadata": {},
   "outputs": [
    {
     "data": {
      "text/plain": [
       "SVC(kernel='linear')"
      ]
     },
     "execution_count": 104,
     "metadata": {},
     "output_type": "execute_result"
    }
   ],
   "source": [
    "from sklearn.svm import SVC\n",
    "\n",
    "svm_linear = SVC(kernel='linear')\n",
    "svm_linear.fit(X_train,Y_train)"
   ]
  },
  {
   "cell_type": "code",
   "execution_count": 114,
   "id": "48bdc0f3-8170-4cdf-b0b7-6f17c7a8aa00",
   "metadata": {},
   "outputs": [],
   "source": [
    "y_pred1 = svm_linear.predict(X_test)"
   ]
  },
  {
   "cell_type": "code",
   "execution_count": 115,
   "id": "684bb542-0c6c-4049-8f34-7ec676264e39",
   "metadata": {},
   "outputs": [
    {
     "name": "stdout",
     "output_type": "stream",
     "text": [
      "Accuracy is 0.9333333333333333\n",
      "Precision is 0.9333333333333333\n",
      "Recall is 0.9333333333333333\n",
      "Fl score is 0.9333333333333333\n"
     ]
    }
   ],
   "source": [
    "print(\"Accuracy is\", accuracy_score(Y_test,y_pred1))\n",
    "print(\"Precision is\", precision_score(Y_test,y_pred1,pos_label='positive', average='micro'))\n",
    "print(\"Recall is\", recall_score(Y_test,y_pred1,pos_label='positive', average='micro'))\n",
    "print(\"Fl score is\", f1_score(Y_test,y_pred1,pos_label='positive', average='micro'))"
   ]
  },
  {
   "cell_type": "code",
   "execution_count": 113,
   "id": "15f57d2a-80b6-4fbc-bce3-f56250d54a11",
   "metadata": {},
   "outputs": [
    {
     "data": {
      "text/plain": [
       "array([[11,  0,  0],\n",
       "       [ 0,  7,  0],\n",
       "       [ 0,  2, 10]], dtype=int64)"
      ]
     },
     "execution_count": 113,
     "metadata": {},
     "output_type": "execute_result"
    }
   ],
   "source": [
    "confusion_matrix(Y_test,y_pred1)"
   ]
  },
  {
   "cell_type": "markdown",
   "id": "ec1b8b99-2715-4565-8d23-3c61a3517765",
   "metadata": {},
   "source": [
    "SVM model also algorithm gives less precision accuracy values than the Logistic regression model and kNN"
   ]
  },
  {
   "cell_type": "markdown",
   "id": "2c867be4-cfb0-471d-b012-8839a0df91b2",
   "metadata": {},
   "source": [
    "### 5.Random Forest"
   ]
  },
  {
   "cell_type": "code",
   "execution_count": 31,
   "id": "e39ee4f9-3683-4453-ae5a-eb5448f09905",
   "metadata": {},
   "outputs": [
    {
     "data": {
      "text/plain": [
       "RandomForestClassifier()"
      ]
     },
     "execution_count": 31,
     "metadata": {},
     "output_type": "execute_result"
    }
   ],
   "source": [
    "from sklearn.ensemble import RandomForestClassifier\n",
    "\n",
    "\n",
    "rf= RandomForestClassifier()\n",
    "rf.fit(X_train,Y_train)\n"
   ]
  },
  {
   "cell_type": "code",
   "execution_count": 32,
   "id": "f942094d-19c5-465b-98a1-f13be0ea28b0",
   "metadata": {},
   "outputs": [],
   "source": [
    "y_pred1 = rf.predict(X_test)"
   ]
  },
  {
   "cell_type": "code",
   "execution_count": 53,
   "id": "f0dc3d6e-dcec-400d-bea1-9592a89f5e5a",
   "metadata": {},
   "outputs": [
    {
     "name": "stdout",
     "output_type": "stream",
     "text": [
      "Accuracy is 0.9333333333333333\n",
      "Precision is 0.9333333333333333\n",
      "Recall is 0.9333333333333333\n",
      "Fl score is 0.9333333333333333\n"
     ]
    }
   ],
   "source": [
    "print(\"Accuracy is\", accuracy_score(Y_test,y_pred1))\n",
    "print(\"Precision is\", precision_score(Y_test,y_pred1,pos_label='positive', average='micro'))\n",
    "print(\"Recall is\", recall_score(Y_test,y_pred1,pos_label='positive', average='micro'))\n",
    "print(\"Fl score is\", f1_score(Y_test,y_pred1,pos_label='positive', average='micro'))"
   ]
  },
  {
   "cell_type": "code",
   "execution_count": 36,
   "id": "5e1c8297-8280-4d5d-afd2-70557f6a4b5d",
   "metadata": {},
   "outputs": [],
   "source": []
  },
  {
   "cell_type": "code",
   "execution_count": 124,
   "id": "980d94bb-6f75-4ff4-8234-e8d54d483820",
   "metadata": {},
   "outputs": [
    {
     "data": {
      "text/plain": [
       "array([[11,  0,  0],\n",
       "       [ 0,  7,  0],\n",
       "       [ 0,  2, 10]], dtype=int64)"
      ]
     },
     "execution_count": 124,
     "metadata": {},
     "output_type": "execute_result"
    }
   ],
   "source": [
    "confusion_matrix(Y_test,y_pred1)"
   ]
  },
  {
   "cell_type": "code",
   "execution_count": null,
   "id": "7621cd19-36e7-4998-93fb-b9983700d312",
   "metadata": {},
   "outputs": [],
   "source": [
    "#fine tuning of hyper parameters"
   ]
  },
  {
   "cell_type": "code",
   "execution_count": 40,
   "id": "d13539e0-15db-41e3-a8c2-e0797b5d473c",
   "metadata": {},
   "outputs": [],
   "source": [
    "rft=RandomForestClassifier(n_estimators=200,max_depth=10,random_state=42,criterion='entropy')"
   ]
  },
  {
   "cell_type": "code",
   "execution_count": 41,
   "id": "fd7e3a44-ad43-43a4-9b38-9e38a8e1a616",
   "metadata": {},
   "outputs": [],
   "source": [
    "rft.fit(X_train,Y_train)\n",
    "y_pred=rft.predict(X_test)"
   ]
  },
  {
   "cell_type": "code",
   "execution_count": 43,
   "id": "49dc8f8c-d7c3-47e5-88ef-06c732e20c22",
   "metadata": {},
   "outputs": [
    {
     "name": "stdout",
     "output_type": "stream",
     "text": [
      "accuracy is: 0.9333333333333333\n",
      "precision score: 0.9259259259259259\n",
      "recall_score: 0.9444444444444445\n",
      "f1 score: 0.9280303030303031\n"
     ]
    }
   ],
   "source": [
    "print(\"accuracy is:\",accuracy_score(Y_test,y_pred))\n",
    "print(\"precision score:\",precision_score(Y_test,y_pred,average='macro'))\n",
    "print(\"recall_score:\",recall_score(Y_test,y_pred,average='macro'))\n",
    "print('f1 score:',f1_score(Y_test,y_pred,average='macro'))"
   ]
  },
  {
   "cell_type": "markdown",
   "id": "522d5f36-9255-47e0-8191-46533fc8d941",
   "metadata": {},
   "source": [
    "Getting the same accuracy level"
   ]
  },
  {
   "cell_type": "code",
   "execution_count": 44,
   "id": "f6d96883-9c63-4a4c-acd9-a67e6de91b67",
   "metadata": {},
   "outputs": [],
   "source": [
    "# gradient boosting\n"
   ]
  },
  {
   "cell_type": "code",
   "execution_count": 46,
   "id": "2b055a37-3855-44d3-9835-0b6ee3adb81f",
   "metadata": {},
   "outputs": [],
   "source": [
    "from sklearn.ensemble import GradientBoostingClassifier\n",
    "gb=GradientBoostingClassifier()\n",
    "gb.fit(X_train,Y_train)\n",
    "y_pred=gb.predict(X_test)"
   ]
  },
  {
   "cell_type": "code",
   "execution_count": 54,
   "id": "643d57aa-f6bc-4ce8-a11b-f6d5f689cc90",
   "metadata": {},
   "outputs": [
    {
     "name": "stdout",
     "output_type": "stream",
     "text": [
      "accuracy is: 0.9333333333333333\n",
      "precision score: 0.9259259259259259\n",
      "recall_score: 0.9444444444444445\n",
      "f1 score: 0.9280303030303031\n"
     ]
    }
   ],
   "source": [
    "print(\"accuracy is:\",accuracy_score(Y_test,y_pred))\n",
    "print(\"precision score:\",precision_score(Y_test,y_pred,average='macro'))\n",
    "print(\"recall_score:\",recall_score(Y_test,y_pred,average='macro'))\n",
    "print('f1 score:',f1_score(Y_test,y_pred,average='macro'))"
   ]
  },
  {
   "cell_type": "markdown",
   "id": "92c3be20-8542-4042-b2aa-9cd54e5cfdcc",
   "metadata": {},
   "source": [
    "We got the maximum precision and accuracy value for logistic regression and kNN model compared two the other models"
   ]
  },
  {
   "cell_type": "code",
   "execution_count": null,
   "id": "416a4543-07ae-48e4-a71a-5a6d97be6293",
   "metadata": {},
   "outputs": [],
   "source": []
  },
  {
   "cell_type": "code",
   "execution_count": null,
   "id": "fcbbce23-468d-4cdb-a620-f784e308aa1f",
   "metadata": {},
   "outputs": [],
   "source": []
  }
 ],
 "metadata": {
  "kernelspec": {
   "display_name": "Python 3 (ipykernel)",
   "language": "python",
   "name": "python3"
  },
  "language_info": {
   "codemirror_mode": {
    "name": "ipython",
    "version": 3
   },
   "file_extension": ".py",
   "mimetype": "text/x-python",
   "name": "python",
   "nbconvert_exporter": "python",
   "pygments_lexer": "ipython3",
   "version": "3.9.12"
  }
 },
 "nbformat": 4,
 "nbformat_minor": 5
}
